{
 "cells": [
  {
   "cell_type": "code",
   "execution_count": 10,
   "id": "97b3f42f-e874-46b8-8eb4-f60a969c1887",
   "metadata": {},
   "outputs": [
    {
     "name": "stdout",
     "output_type": "stream",
     "text": [
      "Compute device: cpu\n",
      "\n",
      "GPUs: 0\n",
      "\n",
      "tensor([0., 1., 2.]) on GPU: False\n",
      "tensor([2., 3., 4.]) on GPU: False\n",
      "tensor([2., 3., 4.]) on GPU: False\n"
     ]
    }
   ],
   "source": [
    "import torch\n",
    "device = torch.device(\"cuda:0\" if torch.cuda.is_available() else \"cpu\")\n",
    "print(f\"Compute device: {device}\\n\")\n",
    "\n",
    "count = torch.cuda.device_count()\n",
    "print(f\"GPUs: {count}\")\n",
    "\n",
    "for i in range(count):\n",
    "    current = torch.cuda.current_device()\n",
    "    name = torch.cuda.get_device_name(current)\n",
    "    print(f\" [{i}]: {name}\")\n",
    "\n",
    "\n",
    "#### A couple of actual operation\n",
    "print(\"\")\n",
    "X = torch.FloatTensor([0., 1., 2.])\n",
    "\n",
    "if torch.cuda.is_available():\n",
    "\tX = X.cuda() \n",
    "\n",
    "Y = X + 2\n",
    "\n",
    "Z = Y.cpu()\n",
    "\n",
    "for e in [X, Y, Z]:\n",
    "\tprint(f\"{e} on GPU: {e.is_cuda}\")\n"
   ]
  },
  {
   "cell_type": "code",
   "execution_count": null,
   "id": "55333be3-160e-4253-948b-66cfcef659a2",
   "metadata": {},
   "outputs": [],
   "source": []
  }
 ],
 "metadata": {
  "kernelspec": {
   "display_name": "Python 3 (ipykernel)",
   "language": "python",
   "name": "python3"
  },
  "language_info": {
   "codemirror_mode": {
    "name": "ipython",
    "version": 3
   },
   "file_extension": ".py",
   "mimetype": "text/x-python",
   "name": "python",
   "nbconvert_exporter": "python",
   "pygments_lexer": "ipython3",
   "version": "3.10.11"
  }
 },
 "nbformat": 4,
 "nbformat_minor": 5
}
